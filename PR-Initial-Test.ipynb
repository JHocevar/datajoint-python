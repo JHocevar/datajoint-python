{
 "cells": [
  {
   "cell_type": "code",
   "execution_count": 1,
   "source": [
    "import datajoint as dj\n",
    "conn = dj.conn(host=\"tutorial-db.datajoint.io\", user=\"jonathan\", password=\"testpassword123\")"
   ],
   "outputs": [
    {
     "output_type": "stream",
     "name": "stdout",
     "text": [
      "Connecting jonathan@tutorial-db.datajoint.io:3306\n",
      "SELECT connection_id() query being made with args ()\n"
     ]
    }
   ],
   "metadata": {}
  },
  {
   "cell_type": "code",
   "execution_count": 3,
   "source": [
    "\n",
    "cursor = conn._conn.fetch_query(\"select * from jonathan_tutorial.mouse\", ())"
   ],
   "outputs": [],
   "metadata": {}
  },
  {
   "cell_type": "code",
   "execution_count": 4,
   "source": [
    "l = list(cursor.fetchall())\n",
    "print(l)\n",
    "for row in l:\n",
    "    print(row)"
   ],
   "outputs": [
    {
     "output_type": "stream",
     "name": "stdout",
     "text": [
      "[<datajoint.core_ffi.table_row.TableRow object at 0x7f1712e30c70>, <datajoint.core_ffi.table_row.TableRow object at 0x7f1757db8910>, <datajoint.core_ffi.table_row.TableRow object at 0x7f17544e8eb0>, <datajoint.core_ffi.table_row.TableRow object at 0x7f17544d6e80>, <datajoint.core_ffi.table_row.TableRow object at 0x7f17544d6d90>, <datajoint.core_ffi.table_row.TableRow object at 0x7f17544f6df0>, <datajoint.core_ffi.table_row.TableRow object at 0x7f17544f6e20>, <datajoint.core_ffi.table_row.TableRow object at 0x7f17544f6f70>, <datajoint.core_ffi.table_row.TableRow object at 0x7f17544f6820>, <datajoint.core_ffi.table_row.TableRow object at 0x7f17544f6eb0>]\n",
      "{'mouse_id': 0, 'dob': '2017-03-01', 'sex': 'M'}\n",
      "{'mouse_id': 1, 'dob': '2017-03-01', 'sex': 'M'}\n",
      "{'mouse_id': 2, 'dob': '2017-03-01', 'sex': 'M'}\n",
      "{'mouse_id': 3, 'dob': '1999-01-01', 'sex': 'F'}\n",
      "{'mouse_id': 4, 'dob': '2006-05-12', 'sex': 'F'}\n",
      "{'mouse_id': 6, 'dob': '2017-03-01', 'sex': 'M'}\n",
      "{'mouse_id': 12, 'dob': '2017-03-21', 'sex': 'F'}\n",
      "{'mouse_id': 100, 'dob': '2017-03-21', 'sex': 'F'}\n",
      "{'mouse_id': 101, 'dob': '2017-03-21', 'sex': 'F'}\n",
      "{'mouse_id': 102, 'dob': '2017-03-21', 'sex': 'F'}\n"
     ]
    }
   ],
   "metadata": {}
  },
  {
   "cell_type": "code",
   "execution_count": null,
   "source": [],
   "outputs": [],
   "metadata": {}
  }
 ],
 "metadata": {
  "interpreter": {
   "hash": "c45786090b6fa9d4facfe9256da1236f4e4af4f16686373834f7431541e583bb"
  },
  "kernelspec": {
   "name": "python3",
   "display_name": "Python 3.9.7 64-bit ('venv': venv)"
  },
  "language_info": {
   "codemirror_mode": {
    "name": "ipython",
    "version": 3
   },
   "file_extension": ".py",
   "mimetype": "text/x-python",
   "name": "python",
   "nbconvert_exporter": "python",
   "pygments_lexer": "ipython3",
   "version": "3.9.7"
  },
  "orig_nbformat": 4
 },
 "nbformat": 4,
 "nbformat_minor": 2
}