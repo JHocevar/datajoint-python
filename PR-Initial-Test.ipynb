{
 "cells": [
  {
   "cell_type": "code",
   "execution_count": 1,
   "metadata": {},
   "outputs": [
    {
     "name": "stdout",
     "output_type": "stream",
     "text": [
      "Connecting jonathan@tutorial-db.datajoint.io:3306\n"
     ]
    }
   ],
   "source": [
    "import datajoint as dj\n",
    "conn = dj.conn(host=\"tutorial-db.datajoint.io\", user=\"jonathan\", password=\"testpassword123\")"
   ]
  },
  {
   "cell_type": "code",
   "execution_count": 2,
   "metadata": {},
   "outputs": [],
   "source": [
    "cursor = conn._conn.fetch_query(\"select * from jonathan_tutorial.mouse\", ())"
   ]
  },
  {
   "cell_type": "code",
   "execution_count": 3,
   "metadata": {},
   "outputs": [
    {
     "name": "stdout",
     "output_type": "stream",
     "text": [
      "{'mouse_id': 0, 'dob': '2017-03-01', 'sex': 'M'}\n",
      "{'mouse_id': 1, 'dob': '2017-03-01', 'sex': 'M'}\n",
      "{'mouse_id': 2, 'dob': '2017-03-01', 'sex': 'M'}\n",
      "{'mouse_id': 3, 'dob': '1999-01-01', 'sex': 'F'}\n",
      "{'mouse_id': 4, 'dob': '2006-05-12', 'sex': 'F'}\n",
      "{'mouse_id': 6, 'dob': '2017-03-01', 'sex': 'M'}\n"
     ]
    }
   ],
   "source": [
    "l = list(cursor)\n",
    "for row in l:\n",
    "    print(row.to_dict())"
   ]
  },
  {
   "cell_type": "code",
   "execution_count": null,
   "metadata": {},
   "outputs": [],
   "source": []
  }
 ],
 "metadata": {
  "interpreter": {
   "hash": "03eaa2ea944cf99881aa5fab8d165e2f17a4015119a862d5d367392066f26a1e"
  },
  "kernelspec": {
   "display_name": "Python 3.9.5 64-bit",
   "language": "python",
   "name": "python3"
  },
  "language_info": {
   "codemirror_mode": {
    "name": "ipython",
    "version": 3
   },
   "file_extension": ".py",
   "mimetype": "text/x-python",
   "name": "python",
   "nbconvert_exporter": "python",
   "pygments_lexer": "ipython3",
   "version": "3.9.6"
  },
  "orig_nbformat": 4
 },
 "nbformat": 4,
 "nbformat_minor": 2
}
