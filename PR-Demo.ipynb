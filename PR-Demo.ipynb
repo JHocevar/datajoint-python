{
 "cells": [
  {
   "cell_type": "code",
   "execution_count": 3,
   "metadata": {},
   "outputs": [],
   "source": [
    "import datajoint as dj"
   ]
  },
  {
   "cell_type": "code",
   "execution_count": 4,
   "metadata": {},
   "outputs": [
    {
     "name": "stdout",
     "output_type": "stream",
     "text": [
      "fetching query: SELECT connection_id() with args: ()\n",
      "{'connection_id()': 25325}\n"
     ]
    },
    {
     "data": {
      "text/plain": "DataJoint connection (connected) jonathan@tutorial-db.datajoint.io:3306"
     },
     "execution_count": 2,
     "metadata": {},
     "output_type": "execute_result"
    },
    {
     "data": {
      "text/plain": "DataJoint connection (connected) jonathan@tutorial-db.datajoint.io:3306"
     },
     "execution_count": 4,
     "metadata": {},
     "output_type": "execute_result"
    }
   ],
   "source": [
    "dj.conn(host=\"tutorial-db.datajoint.io\", user=\"jonathan\", password=\"testpassword123\")"
   ]
  },
  {
   "cell_type": "code",
   "execution_count": 5,
   "metadata": {},
   "outputs": [
    {
     "name": "stdout",
     "output_type": "stream",
     "text": [
      "fetching query: SELECT schema_name FROM information_schema.schemata WHERE schema_name = 'jonathan_tutorial' with args: ()\n",
      "{'schema_name': 'jonathan_tutorial'}\n"
     ]
    }
   ],
   "source": [
    "schema = dj.schema('jonathan_tutorial')"
   ]
  },
  {
   "cell_type": "code",
   "execution_count": 6,
   "metadata": {},
   "outputs": [
    {
     "name": "stdout",
     "output_type": "stream",
     "text": [
      "fetching query: SELECT schema_name FROM information_schema.schemata WHERE schema_name <> \"information_schema\" with args: ()\n",
      "{'schema_name': 'capstone_utd_2021_fall_demo'}\n",
      "{'schema_name': 'jonathan_tutorial'}\n"
     ]
    },
    {
     "data": {
      "text/plain": "['capstone_utd_2021_fall_demo', 'jonathan_tutorial']"
     },
     "execution_count": 6,
     "metadata": {},
     "output_type": "execute_result"
    }
   ],
   "source": [
    "dj.list_schemas()"
   ]
  },
  {
   "cell_type": "code",
   "execution_count": 7,
   "metadata": {},
   "outputs": [
    {
     "name": "stdout",
     "output_type": "stream",
     "text": [
      "fetching query: SHOW TABLES in `jonathan_tutorial` LIKE \"mouse\" with args: ()\n",
      "{'Tables_in_jonathan_tutorial (mouse)': 'mouse'}\n"
     ]
    }
   ],
   "source": [
    "@schema\n",
    "class Mouse(dj.Manual):\n",
    "    definition = \"\"\"\n",
    "    # Experimental animals\n",
    "    mouse_id             : int                          # Unique animal ID\n",
    "    ---\n",
    "    dob=null             : date                         # date of birth\n",
    "    sex=\"unknown\"        : enum('M','F','unknown')      # sex\n",
    "    \"\"\""
   ]
  },
  {
   "cell_type": "code",
   "execution_count": 8,
   "metadata": {},
   "outputs": [
    {
     "name": "stdout",
     "output_type": "stream",
     "text": [
      "fetching query: SHOW TABLE STATUS FROM `jonathan_tutorial` WHERE name=\"mouse\" with args: ()\n",
      "{'Name': 'mouse', 'Engine': 'InnoDB', 'Version': 10, 'Row_format': 'Dynamic', 'Rows': 6, 'Avg_row_length': 2730, 'Data_length': 16384, 'Max_data_length': 0, 'Index_length': 0, 'Data_free': 0, 'Auto_increment': None, 'Create_time': '2021-10-18 03:46:08', 'Update_time': '2021-10-30 15:13:57', 'Check_time': None, 'Collation': 'latin1_swedish_ci', 'Checksum': None, 'Create_options': '', 'Comment': 'Experimental animals'}\n",
      "fetching query: SHOW FULL COLUMNS FROM `mouse` IN `jonathan_tutorial` with args: ()\n",
      "{'Field': 'mouse_id', 'Type': 'DECODE FAILED', 'Collation': None, 'Null': 'NO', 'Key': 'PRI', 'Default': 'DECODE FAILED', 'Extra': '', 'Privileges': 'select,insert,update,references', 'Comment': 'Unique animal ID'}\n",
      "{'Field': 'dob', 'Type': 'DECODE FAILED', 'Collation': None, 'Null': 'YES', 'Key': '', 'Default': 'DECODE FAILED', 'Extra': '', 'Privileges': 'select,insert,update,references', 'Comment': 'date of birth'}\n",
      "{'Field': 'sex', 'Type': 'DECODE FAILED', 'Collation': 'latin1_swedish_ci', 'Null': 'NO', 'Key': '', 'Default': 'DECODE FAILED', 'Extra': '', 'Privileges': 'select,insert,update,references', 'Comment': 'sex'}\n",
      "fetching query: SHOW KEYS FROM `jonathan_tutorial`.`mouse` with args: ()\n",
      "{'Table': 'mouse', 'Non_unique': 0, 'Key_name': 'PRIMARY', 'Seq_in_index': 1, 'Column_name': 'mouse_id', 'Collation': 'A', 'Cardinality': 5, 'Sub_part': None, 'Packed': None, 'Null': '', 'Index_type': 'BTREE', 'Comment': '', 'Index_comment': ''}\n",
      "fetching query: SELECT `mouse_id`,`dob`,`sex` FROM `jonathan_tutorial`.`mouse` LIMIT 13 with args: ()\n",
      "{'mouse_id': 0, 'dob': '2017-03-01', 'sex': 'M'}\n",
      "{'mouse_id': 1, 'dob': '2017-03-01', 'sex': 'M'}\n",
      "{'mouse_id': 2, 'dob': '2017-03-01', 'sex': 'M'}\n",
      "{'mouse_id': 3, 'dob': '1999-01-01', 'sex': 'F'}\n",
      "{'mouse_id': 4, 'dob': '2006-05-12', 'sex': 'F'}\n",
      "{'mouse_id': 6, 'dob': '2017-03-01', 'sex': 'M'}\n",
      "fetching query: SELECT count(DISTINCT `mouse_id`) FROM `jonathan_tutorial`.`mouse` with args: ()\n",
      "{'count(DISTINCT `mouse_id`)': 6}\n",
      "fetching query: SELECT `mouse_id`,`dob`,`sex` FROM `jonathan_tutorial`.`mouse` LIMIT 13 with args: ()\n",
      "{'mouse_id': 0, 'dob': '2017-03-01', 'sex': 'M'}\n",
      "{'mouse_id': 1, 'dob': '2017-03-01', 'sex': 'M'}\n",
      "{'mouse_id': 2, 'dob': '2017-03-01', 'sex': 'M'}\n",
      "{'mouse_id': 3, 'dob': '1999-01-01', 'sex': 'F'}\n",
      "{'mouse_id': 4, 'dob': '2006-05-12', 'sex': 'F'}\n",
      "{'mouse_id': 6, 'dob': '2017-03-01', 'sex': 'M'}\n",
      "fetching query: SELECT count(DISTINCT `mouse_id`) FROM `jonathan_tutorial`.`mouse` with args: ()\n",
      "{'count(DISTINCT `mouse_id`)': 6}\n"
     ]
    },
    {
     "data": {
      "text/plain": "*mouse_id      dob            sex           \n+------------+ +------------+ +------------+\n<datajoint.cor <datajoint.cor <datajoint.cor\n<datajoint.cor <datajoint.cor <datajoint.cor\n<datajoint.cor <datajoint.cor <datajoint.cor\n<datajoint.cor <datajoint.cor <datajoint.cor\n<datajoint.cor <datajoint.cor <datajoint.cor\n<datajoint.cor <datajoint.cor <datajoint.cor\n (Total: 6)",
      "text/html": "\n    \n    <style type=\"text/css\">\n        .Relation{\n            border-collapse:collapse;\n        }\n        .Relation th{\n            background: #A0A0A0; color: #ffffff; padding:4px; border:#f0e0e0 1px solid;\n            font-weight: normal; font-family: monospace; font-size: 100%;\n        }\n        .Relation td{\n            padding:4px; border:#f0e0e0 1px solid; font-size:100%;\n        }\n        .Relation tr:nth-child(odd){\n            background: #ffffff;\n        }\n        .Relation tr:nth-child(even){\n            background: #f3f1ff;\n        }\n        /* Tooltip container */\n        .djtooltip {\n        }\n        /* Tooltip text */\n        .djtooltip .djtooltiptext {\n            visibility: hidden;\n            width: 120px;\n            background-color: black;\n            color: #fff;\n            text-align: center;\n            padding: 5px 0;\n            border-radius: 6px;\n            /* Position the tooltip text - see examples below! */\n            position: absolute;\n            z-index: 1;\n        }\n        #primary {\n            font-weight: bold;\n            color: black;\n        }\n        #nonprimary {\n            font-weight: normal;\n            color: white;\n        }\n\n        /* Show the tooltip text when you mouse over the tooltip container */\n        .djtooltip:hover .djtooltiptext {\n            visibility: visible;\n        }\n    </style>\n    \n    <b>Experimental animals</b>\n        <div style=\"max-height:1000px;max-width:1500px;overflow:auto;\">\n        <table border=\"1\" class=\"Relation\">\n            <thead> <tr style=\"text-align: right;\"> <th> <div class=\"djtooltip\">\n                            <p id=\"primary\">mouse_id</p>\n                            <span class=\"djtooltiptext\">Unique animal ID</span>\n                        </div></th><th><div class=\"djtooltip\">\n                            <p id=\"nonprimary\">dob</p>\n                            <span class=\"djtooltiptext\">date of birth</span>\n                        </div></th><th><div class=\"djtooltip\">\n                            <p id=\"nonprimary\">sex</p>\n                            <span class=\"djtooltiptext\">sex</span>\n                        </div> </th> </tr> </thead>\n            <tbody> <tr> <td><datajoint.core_ffi.table_row.TableRow object at 0x7f4268035e80></td>\n<td><datajoint.core_ffi.table_row.TableRow object at 0x7f4268035e80></td>\n<td><datajoint.core_ffi.table_row.TableRow object at 0x7f4268035e80></td></tr><tr><td><datajoint.core_ffi.table_row.TableRow object at 0x7f424ec904c0></td>\n<td><datajoint.core_ffi.table_row.TableRow object at 0x7f424ec904c0></td>\n<td><datajoint.core_ffi.table_row.TableRow object at 0x7f424ec904c0></td></tr><tr><td><datajoint.core_ffi.table_row.TableRow object at 0x7f424ec90160></td>\n<td><datajoint.core_ffi.table_row.TableRow object at 0x7f424ec90160></td>\n<td><datajoint.core_ffi.table_row.TableRow object at 0x7f424ec90160></td></tr><tr><td><datajoint.core_ffi.table_row.TableRow object at 0x7f424ec901c0></td>\n<td><datajoint.core_ffi.table_row.TableRow object at 0x7f424ec901c0></td>\n<td><datajoint.core_ffi.table_row.TableRow object at 0x7f424ec901c0></td></tr><tr><td><datajoint.core_ffi.table_row.TableRow object at 0x7f424ec900a0></td>\n<td><datajoint.core_ffi.table_row.TableRow object at 0x7f424ec900a0></td>\n<td><datajoint.core_ffi.table_row.TableRow object at 0x7f424ec900a0></td></tr><tr><td><datajoint.core_ffi.table_row.TableRow object at 0x7f424ec900d0></td>\n<td><datajoint.core_ffi.table_row.TableRow object at 0x7f424ec900d0></td>\n<td><datajoint.core_ffi.table_row.TableRow object at 0x7f424ec900d0></td> </tr> </tbody>\n        </table>\n        \n        <p>Total: 6</p></div>\n        "
     },
     "execution_count": 8,
     "metadata": {},
     "output_type": "execute_result"
    }
   ],
   "source": [
    "Mouse()"
   ]
  }
 ],
 "metadata": {
  "interpreter": {
   "hash": "03eaa2ea944cf99881aa5fab8d165e2f17a4015119a862d5d367392066f26a1e"
  },
  "kernelspec": {
   "display_name": "Python 3.9.5 64-bit",
   "language": "python",
   "name": "python3"
  },
  "language_info": {
   "codemirror_mode": {
    "name": "ipython",
    "version": 3
   },
   "file_extension": ".py",
   "mimetype": "text/x-python",
   "name": "python",
   "nbconvert_exporter": "python",
   "pygments_lexer": "ipython3",
   "version": "3.9.6"
  },
  "orig_nbformat": 4
 },
 "nbformat": 4,
 "nbformat_minor": 2
}